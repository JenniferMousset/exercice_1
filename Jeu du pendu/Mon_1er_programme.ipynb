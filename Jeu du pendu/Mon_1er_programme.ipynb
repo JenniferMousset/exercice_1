{
 "cells": [
  {
   "cell_type": "markdown",
   "metadata": {},
   "source": [
    "# Mon 1er programme\n",
    "## Ceci est un 1er test sous Jupiter\n",
    "### Je suis super content ....\n",
    ".... parce que cela n'a pas encore **planté**"
   ]
  },
  {
   "cell_type": "code",
   "execution_count": null,
   "metadata": {},
   "outputs": [],
   "source": []
  },
  {
   "cell_type": "code",
   "execution_count": 2,
   "metadata": {},
   "outputs": [
    {
     "name": "stdout",
     "output_type": "stream",
     "text": [
      "Hello world\n"
     ]
    },
    {
     "data": {
      "text/plain": [
       "\"\\nUtilisation d'un built-in function à 1 argument\\n:Input : chaîne de caractère\\n:Output : affichage de la chaîne de caractères\\n:Param : 1 arg. de type String\\n._doc_ : méthode permettant d'afficher proprement le code\\n\""
      ]
     },
     "execution_count": 2,
     "metadata": {},
     "output_type": "execute_result"
    }
   ],
   "source": [
    "# Comments : commentaire de code\n",
    "# docstring\n",
    "\n",
    "# ########################################\n",
    "# Programme principal ####################\n",
    "# ########################################\n",
    "# Nom du fichier : Mon_1er_programme.ipybn\n",
    "# Auteur : Jennifer Mousset\n",
    "# Mail : jenni.mousset@gmail.com\n",
    "# Responsable : JL Lebars (jllebars@cefim.eu)\n",
    "# Date de création : 16/04/2020\n",
    "# Date de modification : \n",
    "# Version : 1.0\n",
    "# Licence : propriété de Nom de votre société\n",
    "\n",
    "# built-in function : print()\n",
    "# argument : \"Hello World\"\n",
    "print(\"Hello world\") # Ecriture de Hello World\n",
    "'''\n",
    "Utilisation d'un built-in function à 1 argument\n",
    ":Input : chaîne de caractère\n",
    ":Output : affichage de la chaîne de caractères\n",
    ":Param : 1 arg. de type String\n",
    "._doc_ : méthode permettant d'afficher proprement le code\n",
    "'''\n"
   ]
  },
  {
   "cell_type": "code",
   "execution_count": null,
   "metadata": {},
   "outputs": [],
   "source": []
  }
 ],
 "metadata": {
  "kernelspec": {
   "display_name": "Python 3",
   "language": "python",
   "name": "python3"
  },
  "language_info": {
   "codemirror_mode": {
    "name": "ipython",
    "version": 3
   },
   "file_extension": ".py",
   "mimetype": "text/x-python",
   "name": "python",
   "nbconvert_exporter": "python",
   "pygments_lexer": "ipython3",
   "version": "3.7.6"
  }
 },
 "nbformat": 4,
 "nbformat_minor": 4
}
