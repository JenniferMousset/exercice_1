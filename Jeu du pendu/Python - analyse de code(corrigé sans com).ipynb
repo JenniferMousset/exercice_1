{
 "cells": [
  {
   "cell_type": "markdown",
   "metadata": {},
   "source": [
    "# Analyse de code\n",
    "\n",
    "Lisez le code ci-dessous et analysez-le en mettant des commentaires : \n",
    "\n",
    "- indiquant les bibliothèques importées et leurs méthodes utilisées\n",
    "- les structures utilisées\n",
    "- les fonctions et leurs rôles\n",
    "\n",
    "Pourquoi ce programme ne fonctionne pas ?"
   ]
  },
  {
   "cell_type": "code",
   "execution_count": null,
   "metadata": {},
   "outputs": [
    {
     "name": "stdout",
     "output_type": "stream",
     "text": [
      "Let's play !\n",
      "O O O O O\n",
      "O O O O O\n",
      "O O O O O\n",
      "O O O O O\n",
      "O O O O O\n",
      "4\n",
      "2\n",
      "Row:1\n",
      "Col:3\n",
      "You missed !\n",
      "1\n",
      "O O O O O\n",
      "O O O X O\n",
      "O O O O O\n",
      "O O O O O\n",
      "O O O O O\n",
      "Row:5\n",
      "Col:5\n",
      "Oops, that's not even.\n",
      "2\n",
      "O O O O O\n",
      "O O O X O\n",
      "O O O O O\n",
      "O O O O O\n",
      "O O O O O\n",
      "Row:3\n",
      "Col:4\n",
      "You missed !\n",
      "3\n",
      "O O O O O\n",
      "O O O X O\n",
      "O O O O O\n",
      "O O O O X\n",
      "O O O O O\n"
     ]
    }
   ],
   "source": [
    "import random\n",
    "\n",
    "board = []\n",
    "\n",
    "for x in range(0,5):\n",
    "  board.append([\"O\"] * 5)\n",
    "\n",
    "def print_board(board):\n",
    "  for row in board:\n",
    "    print (\" \".join(row))\n",
    "\n",
    "print (\"Let's play !\")\n",
    "print_board(board)\n",
    "\n",
    "def random_row(board):\n",
    "  return random.randint(0,len(board)-1)\n",
    "\n",
    "def random_col(board):\n",
    "  return random.randint(0,len(board[0])-1)\n",
    "\n",
    "ship_row = random_row(board)\n",
    "ship_col = random_col(board)\n",
    "print(ship_row)\n",
    "print(ship_col)\n",
    "\n",
    "for turn in range(4):\n",
    "\tguess_row = int(input(\"Row:\"))\n",
    "\tguess_col = int(input(\"Col:\"))\n",
    "\t\n",
    "\tif guess_row == ship_row and guess_col == ship_col:\n",
    "\t  print (\"Congratulations! You win !\")\n",
    "\t  break\n",
    "\telse:\n",
    "\t\tif turn == 3:\n",
    "\t\t\tboard[guess_row][guess_col] = \"X\"\n",
    "\t\t\tprint_board(board)\n",
    "\t\t\tprint (\"Game Over\")\n",
    "\t\t\tprint (\"I was here: [\" + str(ship_row) + \"][\" + str(ship_col) + \"]\")\n",
    "\t\telse:\t\t\t\n",
    "\t\t\tif (guess_row < 0 or guess_row > 4) or (guess_col < 0 or guess_col > 4):\n",
    "\t\t\t\tprint (\"Oops, that's not even.\")\n",
    "\t\t\telif(board[guess_row][guess_col] == \"X\"):\n",
    "\t\t\t\tprint (\"You guessed that one already.\")\n",
    "\t\t\telse:\n",
    "\t\t\t\tprint (\"You missed !\")\n",
    "\t\t\t\tboard[guess_row][guess_col] = \"X\"\n",
    "\t\t\tprint (turn + 1)\n",
    "\t\t\tprint_board(board)"
   ]
  },
  {
   "cell_type": "code",
   "execution_count": null,
   "metadata": {},
   "outputs": [],
   "source": []
  }
 ],
 "metadata": {
  "kernelspec": {
   "display_name": "Python 3",
   "language": "python",
   "name": "python3"
  },
  "language_info": {
   "codemirror_mode": {
    "name": "ipython",
    "version": 3
   },
   "file_extension": ".py",
   "mimetype": "text/x-python",
   "name": "python",
   "nbconvert_exporter": "python",
   "pygments_lexer": "ipython3",
   "version": "3.7.6"
  }
 },
 "nbformat": 4,
 "nbformat_minor": 4
}
