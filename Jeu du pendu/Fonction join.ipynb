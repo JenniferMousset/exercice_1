{
 "cells": [
  {
   "cell_type": "code",
   "execution_count": null,
   "metadata": {},
   "outputs": [],
   "source": [
    "# Nos importons la bibliothèque random. Cette bibliothèque contient des méthodes pour choisir\n",
    "# de façon aléatoire un terme.\n",
    "import random \n",
    "​\n",
    "try :\n",
    "    fichier = open(\"mots.txt\", \"r\")\n",
    "    print(\"Le fichier peut bien être chargé.\")\n",
    "    on_continu = True\n",
    "except IOError :\n",
    "    print(\"Le fichier ne peut être trouvé.\")\n",
    "    on_continu = False\n",
    "​\n",
    "if on_continu :\n",
    "    if (fichier.readable()):\n",
    "        print(\"Le fichier peut être lu.\")\n",
    "    else :\n",
    "        print(\"Le fichier ne peut être lu.\")\n",
    "​\n",
    "mots_pendu = [mot.rstrip() for mot in fichier]\n",
    "print(\", \".join(mots_pendu))\n",
    "​\n",
    "mot_a_deviner = random.choice(mots_pendu)\n",
    "print(mot_a_deviner)\n",
    "​\n",
    "print(\"Le mot contient \", len(mot_a_deviner), \"lettres.\")\n",
    "for tiret in mot_a_deviner:\n",
    "    print(\"- \", end='')\n",
    "    \n",
    "print()\n",
    "lettre_tapee = list()\n",
    "lettre = input(\"Quelle est votre lettre : \")\n",
    "while not(lettre.lower().isalpha()):\n",
    "    print(\"Merci de taper une lettre de l'alphabet.\")\n",
    "    lettre = input(\"Quelle est votre lettre : \")\n",
    "else : \n",
    "    print(\"C'est bien une lettre.\")\n",
    "​\n",
    "if lettre.lower() in mot_a_deviner : \n",
    "    print(\"Yes !\")\n",
    "else : \n",
    "    print(\"No !\")\n",
    "    lettre_tapee.append(lettre.lower()) # ajouter la lettre tapée par le joueur en minuscule\n",
    "    print('Lettres tapées : '.join(lettre_tapee)) # join la lettre tapée à la liste"
   ]
  }
 ],
 "metadata": {
  "kernelspec": {
   "display_name": "Python 3",
   "language": "python",
   "name": "python3"
  },
  "language_info": {
   "codemirror_mode": {
    "name": "ipython",
    "version": 3
   },
   "file_extension": ".py",
   "mimetype": "text/x-python",
   "name": "python",
   "nbconvert_exporter": "python",
   "pygments_lexer": "ipython3",
   "version": "3.7.6"
  }
 },
 "nbformat": 4,
 "nbformat_minor": 4
}
