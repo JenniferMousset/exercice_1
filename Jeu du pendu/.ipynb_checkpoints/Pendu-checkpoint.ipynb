{
 "cells": [
  {
   "cell_type": "code",
   "execution_count": null,
   "metadata": {},
   "outputs": [],
   "source": [
    "fichier = open(\"mots.txt\", \"r\")\n",
    "print(\"===== Informations sur le fichier =====\")\n",
    "print(fichier)\n",
    "print()\n",
    "print(\"===== Type du fichier =====\")\n",
    "print(type(fichier))\n",
    "print()\n",
    "print(\"===== Méthode pour afficher le nom du fichier =====\")\n",
    "print(\"Le fichier s'appelle : \", fichier.name)\n",
    "print()\n",
    "print(\"===== Méthodes d'une variable de type Text =====\")\n",
    "print(dir(fichier))\n",
    "print()\n",
    "print(\"===================================================\")\n",
    "print()\n",
    "print(\"===== Méthode pour lire tout le contenu du fichier =====\")\n",
    "# Un curseur lit le fichier. Il se déplace caractère par caractère ou ligne par ligne selon la méthode.\n",
    "print(fichier.read())\n",
    "fichier.close()\n",
    "Collapse"
   ]
  }
 ],
 "metadata": {
  "kernelspec": {
   "display_name": "Python 3",
   "language": "python",
   "name": "python3"
  },
  "language_info": {
   "codemirror_mode": {
    "name": "ipython",
    "version": 3
   },
   "file_extension": ".py",
   "mimetype": "text/x-python",
   "name": "python",
   "nbconvert_exporter": "python",
   "pygments_lexer": "ipython3",
   "version": "3.7.6"
  }
 },
 "nbformat": 4,
 "nbformat_minor": 4
}
