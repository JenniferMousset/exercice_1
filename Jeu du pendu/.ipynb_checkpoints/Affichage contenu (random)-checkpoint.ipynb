{
 "cells": [
  {
   "cell_type": "code",
   "execution_count": 1,
   "metadata": {},
   "outputs": [
    {
     "name": "stdout",
     "output_type": "stream",
     "text": [
      "Le fichier peut bien être chargé.\n",
      "Le fichier peut être lu.\n",
      "Affichage des mots de la liste : \n",
      "['saison', 'raison', 'maison', 'soleil', 'sortie', 'canoÃ©', 'courses', 'instructions', 'exercices', 'python']\n"
     ]
    }
   ],
   "source": [
    "import random\n",
    "\n",
    "try :\n",
    "    fichier = open(\"mots.txt\", \"r\")\n",
    "    print(\"Le fichier peut bien être chargé.\")\n",
    "    on_continu = True\n",
    "except IOError :\n",
    "    print(\"Le fichier ne peut être trouvé.\")\n",
    "    on_continu = False\n",
    "if on_continu :\n",
    "    if (fichier.readable()):\n",
    "        print(\"Le fichier peut être lu.\")\n",
    "    else :\n",
    "        print(\"Le fichier ne peut être lu.\")\n",
    "\n",
    "# 1ère possibilité pour réaliser une liste avec les mots\n",
    "mots_pendu = list()\n",
    "for mot in fichier:\n",
    "    mots_pendu.append(mot.rstrip())\n",
    "print(\"Affichage des mots de la liste : \")\n",
    "print(mots_pendu)\n"
   ]
  },
  {
   "cell_type": "code",
   "execution_count": null,
   "metadata": {},
   "outputs": [],
   "source": []
  }
 ],
 "metadata": {
  "kernelspec": {
   "display_name": "Python 3",
   "language": "python",
   "name": "python3"
  },
  "language_info": {
   "codemirror_mode": {
    "name": "ipython",
    "version": 3
   },
   "file_extension": ".py",
   "mimetype": "text/x-python",
   "name": "python",
   "nbconvert_exporter": "python",
   "pygments_lexer": "ipython3",
   "version": "3.7.6"
  }
 },
 "nbformat": 4,
 "nbformat_minor": 4
}
