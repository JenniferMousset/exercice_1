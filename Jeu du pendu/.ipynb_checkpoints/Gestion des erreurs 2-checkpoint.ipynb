{
 "cells": [
  {
   "cell_type": "code",
   "execution_count": 13,
   "metadata": {},
   "outputs": [
    {
     "name": "stdout",
     "output_type": "stream",
     "text": [
      "Le fichier peut bien être chargé.\n",
      "Le fichier peut être lu.\n"
     ]
    }
   ],
   "source": [
    "try :\n",
    "    fichier = open(\"mots.txt\", \"r\")\n",
    "    print(\"Le fichier peut bien être chargé.\")\n",
    "    on_continu = True\n",
    "except IOError :\n",
    "    print(\"Le fichier ne peut être trouvé.\")\n",
    "    on_continu = False\n",
    "if on_continu :\n",
    "    if (fichier.readable()):\n",
    "        print(\"Le fichier peut être lu.\")\n",
    "    else :\n",
    "        print(\"Le fichier ne peut être lu.\")"
   ]
  },
  {
   "cell_type": "code",
   "execution_count": null,
   "metadata": {},
   "outputs": [],
   "source": []
  },
  {
   "cell_type": "code",
   "execution_count": null,
   "metadata": {},
   "outputs": [],
   "source": []
  }
 ],
 "metadata": {
  "kernelspec": {
   "display_name": "Python 3",
   "language": "python",
   "name": "python3"
  },
  "language_info": {
   "codemirror_mode": {
    "name": "ipython",
    "version": 3
   },
   "file_extension": ".py",
   "mimetype": "text/x-python",
   "name": "python",
   "nbconvert_exporter": "python",
   "pygments_lexer": "ipython3",
   "version": "3.7.6"
  }
 },
 "nbformat": 4,
 "nbformat_minor": 4
}
