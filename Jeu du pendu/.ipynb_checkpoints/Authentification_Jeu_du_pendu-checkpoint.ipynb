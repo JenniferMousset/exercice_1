{
 "cells": [
  {
   "cell_type": "code",
   "execution_count": null,
   "metadata": {},
   "outputs": [],
   "source": [
    "import sys\n",
    "import getpass\n",
    "import hashlib\n",
    "\n",
    "# Création compte\n",
    "nom_utilisateur1 = input(\"Choisissez un nom d'utilisateur : \")\n",
    "mdp = getpass.getpass (\"Choisissez votre mot de passe : \").encode('utf8')\n",
    "mdpc = hashlib.sha224(mdp).hexdigest()\n",
    "ok = input (\"Ecrivez ok en toutes lettres : \")\n",
    "refresh = \"yes\"\n",
    "compteur = 0\n",
    "while ok == \"ok\" and refresh == \"yes\" :\n",
    "    \n",
    "# Identification \n",
    "    print (\"==== Identification ====\")\n",
    "             \n",
    "    nom_utilisateur2 = input (\"Entrez votre nom d'utilisateur : \")\n",
    "    mdp1 = getpass.getpass (\"Tapez votre mot de passe : \").encode('utf8')\n",
    "    mdpc2 = hashlib.sha224(mdp1).hexdigest()\n",
    "    compteur = compteur + 1\n",
    "    if nom_utilisateur2 == nom_utilisateur1 and mdpc2 != mdpc :\n",
    "        print (\"ce n'est pas le bon mot de passe !\")\n",
    "     \n",
    "    if nom_utilisateur2 != nom_utilisateur1 and mdpc2 == mdpc :\n",
    "        print (\"le nom d'utilisateur que vous avez entré n'est pas valide.\")\n",
    " \n",
    "    if nom_utilisateur2 != nom_utilisateur1 and mdpc2 != mdpc :\n",
    "        print (\"les deux identifiants sont incorrects.\")\n",
    "     \n",
    "    if compteur == 3 :\n",
    "        print (\"vous avez essayé\", compteur, \"fois... vous n'avez plus d'essais\")\n",
    "        \n",
    "###### il me faut un retour à la création de compte si il n'y a plus d'essais ######\n",
    "        \n",
    "    if nom_utilisateur2 == nom_utilisateur1 and mdpc2 == mdpc :\n",
    "        print (\"vous avez mis les bons identifiants...\")\n",
    "        print (\"Bon jeu\", nom_utilisateur2,)\n"
   ]
  },
  {
   "cell_type": "code",
   "execution_count": null,
   "metadata": {},
   "outputs": [],
   "source": []
  }
 ],
 "metadata": {
  "kernelspec": {
   "display_name": "Python 3",
   "language": "python",
   "name": "python3"
  },
  "language_info": {
   "codemirror_mode": {
    "name": "ipython",
    "version": 3
   },
   "file_extension": ".py",
   "mimetype": "text/x-python",
   "name": "python",
   "nbconvert_exporter": "python",
   "pygments_lexer": "ipython3",
   "version": "3.8.2"
  }
 },
 "nbformat": 4,
 "nbformat_minor": 4
}
