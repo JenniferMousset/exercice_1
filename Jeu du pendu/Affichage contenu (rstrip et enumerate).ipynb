{
 "cells": [
  {
   "cell_type": "code",
   "execution_count": 2,
   "metadata": {},
   "outputs": [
    {
     "name": "stdout",
     "output_type": "stream",
     "text": [
      "Le fichier peut bien être chargé.\n",
      "Le fichier peut être lu.\n",
      "En voici son contenu:\n",
      "le mot 1 est : saison\n",
      "le mot 2 est : raison\n",
      "le mot 3 est : maison\n",
      "le mot 4 est : soleil\n",
      "le mot 5 est : sortie\n",
      "le mot 6 est : canoÃ©\n",
      "le mot 7 est : courses\n",
      "le mot 8 est : instructions\n",
      "le mot 9 est : exercices\n",
      "le mot 10 est : python\n",
      "=================================\n",
      "===== Une autre possibilité =====\n",
      "=================================\n",
      "le mot 1 est saison\n",
      "le mot 2 est raison\n",
      "le mot 3 est maison\n",
      "le mot 4 est soleil\n",
      "le mot 5 est sortie\n",
      "le mot 6 est canoÃ©\n",
      "le mot 7 est courses\n",
      "le mot 8 est instructions\n",
      "le mot 9 est exercices\n",
      "le mot 10 est python"
     ]
    }
   ],
   "source": [
    "try :\n",
    "    fichier = open(\"mots.txt\", \"r\")\n",
    "    print(\"Le fichier peut bien être chargé.\")\n",
    "    on_continu = True\n",
    "except IOError :\n",
    "    print(\"Le fichier ne peut être trouvé.\")\n",
    "    on_continu = False\n",
    "if on_continu :\n",
    "    if (fichier.readable()):\n",
    "        print(\"Le fichier peut être lu.\")\n",
    "    else :\n",
    "        print(\"Le fichier ne peut être lu.\")\n",
    "        \n",
    "# Affichage de son contenu avec un compteur\n",
    "\n",
    "print(\"En voici son contenu:\")\n",
    "compteur = 1\n",
    "for mot in fichier.readlines():\n",
    "    print(\"le mot\", compteur, \"est :\", mot.rstrip()) #rstrip enleve tous les caratères non visible et situé à droite du mot\n",
    "    compteur += 1\n",
    "\n",
    "fichier.seek(0)\n",
    "print(\"=================================\")\n",
    "print(\"===== Une autre possibilité =====\")\n",
    "print(\"=================================\")\n",
    "# Affichage du contenu avec la built-in function enumerate\n",
    "# Cette version est plus pythonique\n",
    "for index, mot in enumerate(fichier.readlines()):\n",
    "    print (\"le mot\", index+1, \"est\", mot, end=\"\")"
   ]
  },
  {
   "cell_type": "code",
   "execution_count": null,
   "metadata": {},
   "outputs": [],
   "source": []
  }
 ],
 "metadata": {
  "kernelspec": {
   "display_name": "Python 3",
   "language": "python",
   "name": "python3"
  },
  "language_info": {
   "codemirror_mode": {
    "name": "ipython",
    "version": 3
   },
   "file_extension": ".py",
   "mimetype": "text/x-python",
   "name": "python",
   "nbconvert_exporter": "python",
   "pygments_lexer": "ipython3",
   "version": "3.8.2"
  }
 },
 "nbformat": 4,
 "nbformat_minor": 4
}
