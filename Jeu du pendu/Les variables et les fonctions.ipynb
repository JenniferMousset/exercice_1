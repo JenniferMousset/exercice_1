{
 "cells": [
  {
   "cell_type": "code",
   "execution_count": null,
   "metadata": {},
   "outputs": [],
   "source": [
    "# Cette fonction retourne une valeur : la lettre A.\n",
    "def maFonctionSansArgument():\n",
    "    valeurDeRetour = \"A\" # cette valeur est encapsulee dans la fonction. Elle n'est accessible que dans cette fonction. \n",
    "    return valeurDeRetour # permet de dire \"je renvoie la valeur de traitement dans cette fonction\"\n",
    "\n",
    "# Une version bien plus courte et plus 'correcte' en programmation\n",
    "def maFonctionSansArgument_AutreVersion():\n",
    "    return \"A\"\n",
    "\n",
    "##### Prgramme principal #####\n",
    "\n",
    "# La variable vavariable_FonctionSansArgument prend comme valeur le résultat\n",
    "# de la fonction maFonctionSansArgument(), soit A\n",
    "variable_FonctionSansArgument = maFonctionSansArgument() # permet de stocker le return valeurDeRetour dans la variable \"variable_FonctionSansArgument\" pour pouvoir l'utiliser en dehors de la fonction\n",
    "print(variable_FonctionSansArgument)\n",
    "print(maFonctionSansArgument_AutreVersion())\n",
    "\n",
    "# dans un return, on peut soit stocker une variable (ex: valeurDeRetour), soit stocker un resultat(ex: \"A\")"
   ]
  },
  {
   "cell_type": "code",
   "execution_count": null,
   "metadata": {},
   "outputs": [],
   "source": [
    "def maFonctionAvecUnArgument(argument): # argument est lié uniquement à cette fonction\n",
    "    return argument + \" Wahou, c'est magique\"\n",
    "\n",
    "##### Prgramme principal #####\n",
    "\n",
    "variable_FonctionAvecUnArgment = maFonctionAvecUnArgument(\"Quoi !\") # permet de stocker argument \" Wahou, c'est magique\" et d'ajouter \"Quoi !\" \n",
    "print(variable_FonctionAvecUnArgment)"
   ]
  },
  {
   "cell_type": "code",
   "execution_count": null,
   "metadata": {},
   "outputs": [],
   "source": [
    "def maFonctionAvecPlusieursArguments(arg1, arg2): # il est important de définir si on attend un str, un int \n",
    "    return arg1 + arg2\n",
    "\n",
    "##### Prgramme principal #####\n",
    "\n",
    "variable_FonctionAvecPlusieursArguments = maFonctionAvecPlusieursArguments(\"Yé !\", \" J'ai compris\")\n",
    "print(variable_FonctionAvecPlusieursArguments)"
   ]
  },
  {
   "cell_type": "code",
   "execution_count": null,
   "metadata": {},
   "outputs": [],
   "source": [
    "def maPremierFonction(argument):\n",
    "    return argument + \"Tiens, ma 1ère fonction. \" + maSecondeFonction(argument) # des fonctions peuvent appeler d'autres fonctions\n",
    "\n",
    "def maSecondeFonction(argument):\n",
    "    return \" Tiens, la seconde fonction.\"\n",
    "\n",
    "maPremierFonction(\"Résultat : \")"
   ]
  }
 ],
 "metadata": {
  "kernelspec": {
   "display_name": "Python 3",
   "language": "python",
   "name": "python3"
  },
  "language_info": {
   "codemirror_mode": {
    "name": "ipython",
    "version": 3
   },
   "file_extension": ".py",
   "mimetype": "text/x-python",
   "name": "python",
   "nbconvert_exporter": "python",
   "pygments_lexer": "ipython3",
   "version": "3.7.6"
  }
 },
 "nbformat": 4,
 "nbformat_minor": 4
}
